{
 "cells": [
  {
   "attachments": {},
   "cell_type": "markdown",
   "metadata": {},
   "source": [
    "In this script I'll build the ANN for a regresion"
   ]
  },
  {
   "cell_type": "code",
   "execution_count": 1,
   "metadata": {},
   "outputs": [],
   "source": [
    "# Importing Libraries\n",
    "import tensorflow as tf\n",
    "from tensorflow import keras\n",
    "from tensorflow.keras.utils import to_categorical\n",
    "from tensorflow.keras import regularizers\n",
    "from tensorflow.keras.models import Sequential\n",
    "from tensorflow.keras.layers import Dense, Dropout, Activation, BatchNormalization\n",
    "from tensorflow.keras.callbacks import ModelCheckpoint, EarlyStopping\n",
    "import numpy as np\n",
    "import pandas as pd\n",
    "import matplotlib.pyplot as plt \n",
    "import seaborn as sns\n",
    "from sklearn.preprocessing import StandardScaler\n",
    "from sklearn.model_selection import train_test_split\n",
    "from sklearn.linear_model import LinearRegression\n",
    "import sklearn.metrics as metrics \n",
    "import keras_tuner as kt\n",
    "import time\n",
    "import h5py"
   ]
  },
  {
   "cell_type": "code",
   "execution_count": 2,
   "metadata": {},
   "outputs": [
    {
     "data": {
      "text/html": [
       "<div>\n",
       "<style scoped>\n",
       "    .dataframe tbody tr th:only-of-type {\n",
       "        vertical-align: middle;\n",
       "    }\n",
       "\n",
       "    .dataframe tbody tr th {\n",
       "        vertical-align: top;\n",
       "    }\n",
       "\n",
       "    .dataframe thead th {\n",
       "        text-align: right;\n",
       "    }\n",
       "</style>\n",
       "<table border=\"1\" class=\"dataframe\">\n",
       "  <thead>\n",
       "    <tr style=\"text-align: right;\">\n",
       "      <th></th>\n",
       "      <th>age</th>\n",
       "      <th>sex</th>\n",
       "      <th>bmi</th>\n",
       "      <th>children</th>\n",
       "      <th>smoker</th>\n",
       "      <th>region</th>\n",
       "      <th>charges</th>\n",
       "    </tr>\n",
       "  </thead>\n",
       "  <tbody>\n",
       "    <tr>\n",
       "      <th>0</th>\n",
       "      <td>19</td>\n",
       "      <td>female</td>\n",
       "      <td>27.900</td>\n",
       "      <td>0</td>\n",
       "      <td>yes</td>\n",
       "      <td>southwest</td>\n",
       "      <td>16884.92400</td>\n",
       "    </tr>\n",
       "    <tr>\n",
       "      <th>1</th>\n",
       "      <td>18</td>\n",
       "      <td>male</td>\n",
       "      <td>33.770</td>\n",
       "      <td>1</td>\n",
       "      <td>no</td>\n",
       "      <td>southeast</td>\n",
       "      <td>1725.55230</td>\n",
       "    </tr>\n",
       "    <tr>\n",
       "      <th>2</th>\n",
       "      <td>28</td>\n",
       "      <td>male</td>\n",
       "      <td>33.000</td>\n",
       "      <td>3</td>\n",
       "      <td>no</td>\n",
       "      <td>southeast</td>\n",
       "      <td>4449.46200</td>\n",
       "    </tr>\n",
       "    <tr>\n",
       "      <th>3</th>\n",
       "      <td>33</td>\n",
       "      <td>male</td>\n",
       "      <td>22.705</td>\n",
       "      <td>0</td>\n",
       "      <td>no</td>\n",
       "      <td>northwest</td>\n",
       "      <td>21984.47061</td>\n",
       "    </tr>\n",
       "    <tr>\n",
       "      <th>4</th>\n",
       "      <td>32</td>\n",
       "      <td>male</td>\n",
       "      <td>28.880</td>\n",
       "      <td>0</td>\n",
       "      <td>no</td>\n",
       "      <td>northwest</td>\n",
       "      <td>3866.85520</td>\n",
       "    </tr>\n",
       "  </tbody>\n",
       "</table>\n",
       "</div>"
      ],
      "text/plain": [
       "   age     sex     bmi  children smoker     region      charges\n",
       "0   19  female  27.900         0    yes  southwest  16884.92400\n",
       "1   18    male  33.770         1     no  southeast   1725.55230\n",
       "2   28    male  33.000         3     no  southeast   4449.46200\n",
       "3   33    male  22.705         0     no  northwest  21984.47061\n",
       "4   32    male  28.880         0     no  northwest   3866.85520"
      ]
     },
     "execution_count": 2,
     "metadata": {},
     "output_type": "execute_result"
    }
   ],
   "source": [
    "insurance_data = pd.read_csv(\"in\\insurance.csv\")\n",
    "insurance_data.head()"
   ]
  },
  {
   "cell_type": "code",
   "execution_count": 3,
   "metadata": {},
   "outputs": [],
   "source": [
    "# Categorical to integrer\n",
    "insurance_data['region'].unique()\n",
    "insurance_data['region'].replace(['southwest', 'southeast', 'northwest', 'northeast'], \n",
    "          [0, 1, 2, 3], inplace=True)"
   ]
  },
  {
   "cell_type": "code",
   "execution_count": 4,
   "metadata": {},
   "outputs": [],
   "source": [
    "insurance_data['smoker'].unique()\n",
    "insurance_data['smoker'].replace(['no', \"yes\"], \n",
    "            [0, 1], inplace=True)"
   ]
  },
  {
   "cell_type": "code",
   "execution_count": 5,
   "metadata": {},
   "outputs": [],
   "source": [
    "insurance_data['sex'].unique()\n",
    "insurance_data['sex'].replace(['female', 'male'], \n",
    "            [0, 1], inplace=True)"
   ]
  },
  {
   "cell_type": "code",
   "execution_count": 6,
   "metadata": {},
   "outputs": [
    {
     "data": {
      "text/html": [
       "<div>\n",
       "<style scoped>\n",
       "    .dataframe tbody tr th:only-of-type {\n",
       "        vertical-align: middle;\n",
       "    }\n",
       "\n",
       "    .dataframe tbody tr th {\n",
       "        vertical-align: top;\n",
       "    }\n",
       "\n",
       "    .dataframe thead th {\n",
       "        text-align: right;\n",
       "    }\n",
       "</style>\n",
       "<table border=\"1\" class=\"dataframe\">\n",
       "  <thead>\n",
       "    <tr style=\"text-align: right;\">\n",
       "      <th></th>\n",
       "      <th>age</th>\n",
       "      <th>sex</th>\n",
       "      <th>bmi</th>\n",
       "      <th>children</th>\n",
       "      <th>smoker</th>\n",
       "      <th>region</th>\n",
       "      <th>charges</th>\n",
       "    </tr>\n",
       "  </thead>\n",
       "  <tbody>\n",
       "    <tr>\n",
       "      <th>0</th>\n",
       "      <td>19</td>\n",
       "      <td>0</td>\n",
       "      <td>27.900</td>\n",
       "      <td>0</td>\n",
       "      <td>1</td>\n",
       "      <td>0</td>\n",
       "      <td>16884.92400</td>\n",
       "    </tr>\n",
       "    <tr>\n",
       "      <th>1</th>\n",
       "      <td>18</td>\n",
       "      <td>1</td>\n",
       "      <td>33.770</td>\n",
       "      <td>1</td>\n",
       "      <td>0</td>\n",
       "      <td>1</td>\n",
       "      <td>1725.55230</td>\n",
       "    </tr>\n",
       "    <tr>\n",
       "      <th>2</th>\n",
       "      <td>28</td>\n",
       "      <td>1</td>\n",
       "      <td>33.000</td>\n",
       "      <td>3</td>\n",
       "      <td>0</td>\n",
       "      <td>1</td>\n",
       "      <td>4449.46200</td>\n",
       "    </tr>\n",
       "    <tr>\n",
       "      <th>3</th>\n",
       "      <td>33</td>\n",
       "      <td>1</td>\n",
       "      <td>22.705</td>\n",
       "      <td>0</td>\n",
       "      <td>0</td>\n",
       "      <td>2</td>\n",
       "      <td>21984.47061</td>\n",
       "    </tr>\n",
       "    <tr>\n",
       "      <th>4</th>\n",
       "      <td>32</td>\n",
       "      <td>1</td>\n",
       "      <td>28.880</td>\n",
       "      <td>0</td>\n",
       "      <td>0</td>\n",
       "      <td>2</td>\n",
       "      <td>3866.85520</td>\n",
       "    </tr>\n",
       "  </tbody>\n",
       "</table>\n",
       "</div>"
      ],
      "text/plain": [
       "   age  sex     bmi  children  smoker  region      charges\n",
       "0   19    0  27.900         0       1       0  16884.92400\n",
       "1   18    1  33.770         1       0       1   1725.55230\n",
       "2   28    1  33.000         3       0       1   4449.46200\n",
       "3   33    1  22.705         0       0       2  21984.47061\n",
       "4   32    1  28.880         0       0       2   3866.85520"
      ]
     },
     "execution_count": 6,
     "metadata": {},
     "output_type": "execute_result"
    }
   ],
   "source": [
    "insurance_data.head()"
   ]
  },
  {
   "cell_type": "code",
   "execution_count": 7,
   "metadata": {},
   "outputs": [],
   "source": [
    "# Spliting data into features and labels\n",
    "X = insurance_data.iloc[:,:6].values\n",
    "y = insurance_data[\"charges\"].values"
   ]
  },
  {
   "cell_type": "code",
   "execution_count": 8,
   "metadata": {},
   "outputs": [
    {
     "name": "stdout",
     "output_type": "stream",
     "text": [
      "# Train; 802\n",
      "# Val; 268\n",
      "# Test; 268\n"
     ]
    }
   ],
   "source": [
    "# Spliting the dataset into train, test and val\n",
    "X_train, X_test, y_train, y_test = train_test_split(X, y, test_size = 0.2, random_state = 0)\n",
    "\n",
    "# Split Train between train and validate / 268 is the 20% of the balanced dataset\n",
    "X_val = X_train[:268]\n",
    "partial_X_train = X_train[268:]\n",
    "\n",
    "y_val = y_train[:268]\n",
    "partial_y_train = y_train[268:]\n",
    "\n",
    "# Length\n",
    "print('# Train;', partial_X_train.shape[0])\n",
    "print('# Val;', X_val.shape[0])\n",
    "print('# Test;', X_test.shape[0])"
   ]
  },
  {
   "cell_type": "code",
   "execution_count": 9,
   "metadata": {},
   "outputs": [],
   "source": [
    "# Standarization of the data\n",
    "std = StandardScaler().fit(partial_X_train)\n",
    "X_ptrain_std = std.transform(partial_X_train)\n",
    "X_test_std = std.transform(X_test)\n",
    "X_val_std = std.transform(X_val)"
   ]
  },
  {
   "cell_type": "code",
   "execution_count": 10,
   "metadata": {},
   "outputs": [
    {
     "data": {
      "text/plain": [
       "(802, 6)"
      ]
     },
     "execution_count": 10,
     "metadata": {},
     "output_type": "execute_result"
    }
   ],
   "source": [
    "X_ptrain_std.shape"
   ]
  },
  {
   "cell_type": "code",
   "execution_count": 11,
   "metadata": {},
   "outputs": [
    {
     "data": {
      "text/plain": [
       "(1070, 6)"
      ]
     },
     "execution_count": 11,
     "metadata": {},
     "output_type": "execute_result"
    }
   ],
   "source": [
    "X_train.shape"
   ]
  },
  {
   "cell_type": "code",
   "execution_count": 12,
   "metadata": {},
   "outputs": [
    {
     "name": "stdout",
     "output_type": "stream",
     "text": [
      "Model: \"sequential\"\n",
      "_________________________________________________________________\n",
      " Layer (type)                Output Shape              Param #   \n",
      "=================================================================\n",
      " dense (Dense)               (None, 1024)              7168      \n",
      "                                                                 \n",
      " dense_1 (Dense)             (None, 512)               524800    \n",
      "                                                                 \n",
      " dense_2 (Dense)             (None, 256)               131328    \n",
      "                                                                 \n",
      " dense_3 (Dense)             (None, 128)               32896     \n",
      "                                                                 \n",
      " dense_4 (Dense)             (None, 64)                8256      \n",
      "                                                                 \n",
      " dense_5 (Dense)             (None, 32)                2080      \n",
      "                                                                 \n",
      " dense_6 (Dense)             (None, 1)                 33        \n",
      "                                                                 \n",
      "=================================================================\n",
      "Total params: 706,561\n",
      "Trainable params: 706,561\n",
      "Non-trainable params: 0\n",
      "_________________________________________________________________\n"
     ]
    }
   ],
   "source": [
    "# Building the ANN v 1.0\n",
    "Model_1 = Sequential()\n",
    "Model_1.add(Dense(1024, activation='relu', input_shape=(6,)))\n",
    "Model_1.add(Dense(512, activation='relu'))\n",
    "Model_1.add(Dense(256, activation='relu'))\n",
    "Model_1.add(Dense(128, activation='relu'))\n",
    "Model_1.add(Dense(64, activation='relu'))\n",
    "Model_1.add(Dense(32, activation='relu'))\n",
    "Model_1.add(Dense(1))\n",
    "\n",
    "Model_1.summary()"
   ]
  },
  {
   "cell_type": "code",
   "execution_count": 13,
   "metadata": {},
   "outputs": [],
   "source": [
    "Model_1.compile(optimizer='rmsprop', loss='mae', metrics=[\"mae\"])"
   ]
  },
  {
   "cell_type": "code",
   "execution_count": 14,
   "metadata": {},
   "outputs": [
    {
     "name": "stdout",
     "output_type": "stream",
     "text": [
      "Epoch 1/100\n",
      "2/2 [==============================] - 3s 629ms/step - loss: 13279.5215 - mae: 13279.5215 - val_loss: 12962.9023 - val_mae: 12962.9023\n",
      "Epoch 2/100\n",
      "2/2 [==============================] - 0s 74ms/step - loss: 13273.6387 - mae: 13273.6387 - val_loss: 12936.7500 - val_mae: 12936.7500\n",
      "Epoch 3/100\n",
      "2/2 [==============================] - 0s 64ms/step - loss: 13236.7646 - mae: 13236.7646 - val_loss: 12833.6689 - val_mae: 12833.6689\n",
      "Epoch 4/100\n",
      "2/2 [==============================] - 0s 70ms/step - loss: 13106.3965 - mae: 13106.3965 - val_loss: 12555.2031 - val_mae: 12555.2031\n",
      "Epoch 5/100\n",
      "2/2 [==============================] - 0s 72ms/step - loss: 12776.9160 - mae: 12776.9160 - val_loss: 11958.8486 - val_mae: 11958.8486\n",
      "Epoch 6/100\n",
      "2/2 [==============================] - 0s 82ms/step - loss: 12097.3076 - mae: 12097.3076 - val_loss: 10926.7529 - val_mae: 10926.7529\n",
      "Epoch 7/100\n",
      "2/2 [==============================] - 0s 80ms/step - loss: 11012.5986 - mae: 11012.5986 - val_loss: 9716.1211 - val_mae: 9716.1211\n",
      "Epoch 8/100\n",
      "2/2 [==============================] - 0s 83ms/step - loss: 9667.6582 - mae: 9667.6582 - val_loss: 8386.4570 - val_mae: 8386.4570\n",
      "Epoch 9/100\n",
      "2/2 [==============================] - 0s 85ms/step - loss: 8140.4927 - mae: 8140.4927 - val_loss: 7378.5088 - val_mae: 7378.5088\n",
      "Epoch 10/100\n",
      "2/2 [==============================] - 0s 82ms/step - loss: 6942.4399 - mae: 6942.4399 - val_loss: 6827.0786 - val_mae: 6827.0786\n",
      "Epoch 11/100\n",
      "2/2 [==============================] - 0s 77ms/step - loss: 6326.0278 - mae: 6326.0278 - val_loss: 6390.3628 - val_mae: 6390.3628\n",
      "Epoch 12/100\n",
      "2/2 [==============================] - 0s 72ms/step - loss: 5877.3730 - mae: 5877.3730 - val_loss: 6012.9077 - val_mae: 6012.9077\n",
      "Epoch 13/100\n",
      "2/2 [==============================] - 0s 73ms/step - loss: 5476.8115 - mae: 5476.8115 - val_loss: 5723.3062 - val_mae: 5723.3062\n",
      "Epoch 14/100\n",
      "2/2 [==============================] - 0s 89ms/step - loss: 5219.8408 - mae: 5219.8408 - val_loss: 5373.9360 - val_mae: 5373.9360\n",
      "Epoch 15/100\n",
      "2/2 [==============================] - 0s 94ms/step - loss: 4864.2056 - mae: 4864.2056 - val_loss: 5093.0605 - val_mae: 5093.0605\n",
      "Epoch 16/100\n",
      "2/2 [==============================] - 0s 90ms/step - loss: 4615.7080 - mae: 4615.7080 - val_loss: 4909.6011 - val_mae: 4909.6011\n",
      "Epoch 17/100\n",
      "2/2 [==============================] - 0s 97ms/step - loss: 4476.6255 - mae: 4476.6255 - val_loss: 4690.6885 - val_mae: 4690.6885\n",
      "Epoch 18/100\n",
      "2/2 [==============================] - 0s 82ms/step - loss: 4301.6592 - mae: 4301.6592 - val_loss: 4647.2930 - val_mae: 4647.2930\n",
      "Epoch 19/100\n",
      "2/2 [==============================] - 0s 68ms/step - loss: 4321.2065 - mae: 4321.2065 - val_loss: 4422.0879 - val_mae: 4422.0879\n",
      "Epoch 20/100\n",
      "2/2 [==============================] - 0s 70ms/step - loss: 4049.7424 - mae: 4049.7424 - val_loss: 4247.0664 - val_mae: 4247.0664\n",
      "Epoch 21/100\n",
      "2/2 [==============================] - 0s 72ms/step - loss: 3925.7244 - mae: 3925.7244 - val_loss: 4162.5708 - val_mae: 4162.5708\n",
      "Epoch 22/100\n",
      "2/2 [==============================] - 0s 76ms/step - loss: 3849.6028 - mae: 3849.6028 - val_loss: 4086.6484 - val_mae: 4086.6484\n",
      "Epoch 23/100\n",
      "2/2 [==============================] - 0s 93ms/step - loss: 3876.1677 - mae: 3876.1677 - val_loss: 4077.3828 - val_mae: 4077.3828\n",
      "Epoch 24/100\n",
      "2/2 [==============================] - 0s 81ms/step - loss: 3869.0305 - mae: 3869.0305 - val_loss: 3956.8516 - val_mae: 3956.8516\n",
      "Epoch 25/100\n",
      "2/2 [==============================] - 0s 82ms/step - loss: 3774.1938 - mae: 3774.1938 - val_loss: 3943.5139 - val_mae: 3943.5139\n",
      "Epoch 26/100\n",
      "2/2 [==============================] - 0s 83ms/step - loss: 3792.2949 - mae: 3792.2949 - val_loss: 3930.0225 - val_mae: 3930.0225\n",
      "Epoch 27/100\n",
      "2/2 [==============================] - 0s 77ms/step - loss: 3850.1589 - mae: 3850.1589 - val_loss: 3886.9597 - val_mae: 3886.9597\n",
      "Epoch 28/100\n",
      "2/2 [==============================] - 0s 82ms/step - loss: 3755.3567 - mae: 3755.3567 - val_loss: 3774.5562 - val_mae: 3774.5562\n",
      "Epoch 29/100\n",
      "2/2 [==============================] - 0s 72ms/step - loss: 3634.8210 - mae: 3634.8210 - val_loss: 3743.0928 - val_mae: 3743.0928\n",
      "Epoch 30/100\n",
      "2/2 [==============================] - 0s 78ms/step - loss: 3580.6960 - mae: 3580.6960 - val_loss: 3797.0339 - val_mae: 3797.0339\n",
      "Epoch 31/100\n",
      "2/2 [==============================] - 0s 82ms/step - loss: 3596.4177 - mae: 3596.4177 - val_loss: 3868.8354 - val_mae: 3868.8354\n",
      "Epoch 32/100\n",
      "2/2 [==============================] - 0s 85ms/step - loss: 3624.8325 - mae: 3624.8325 - val_loss: 3698.6377 - val_mae: 3698.6377\n",
      "Epoch 33/100\n",
      "2/2 [==============================] - 0s 78ms/step - loss: 3569.2612 - mae: 3569.2612 - val_loss: 3742.5647 - val_mae: 3742.5647\n",
      "Epoch 34/100\n",
      "2/2 [==============================] - 0s 74ms/step - loss: 3579.9463 - mae: 3579.9463 - val_loss: 3658.4958 - val_mae: 3658.4958\n",
      "Epoch 35/100\n",
      "2/2 [==============================] - 0s 78ms/step - loss: 3507.0415 - mae: 3507.0415 - val_loss: 3667.7878 - val_mae: 3667.7878\n",
      "Epoch 36/100\n",
      "2/2 [==============================] - 0s 79ms/step - loss: 3571.3684 - mae: 3571.3682 - val_loss: 3582.6638 - val_mae: 3582.6638\n",
      "Epoch 37/100\n",
      "2/2 [==============================] - 0s 86ms/step - loss: 3437.8381 - mae: 3437.8381 - val_loss: 3461.5842 - val_mae: 3461.5842\n",
      "Epoch 38/100\n",
      "2/2 [==============================] - 0s 76ms/step - loss: 3382.1584 - mae: 3382.1584 - val_loss: 3458.6086 - val_mae: 3458.6086\n",
      "Epoch 39/100\n",
      "2/2 [==============================] - 0s 70ms/step - loss: 3410.2751 - mae: 3410.2756 - val_loss: 3549.5488 - val_mae: 3549.5488\n",
      "Epoch 40/100\n",
      "2/2 [==============================] - 0s 67ms/step - loss: 3450.0374 - mae: 3450.0374 - val_loss: 3369.1440 - val_mae: 3369.1440\n",
      "Epoch 41/100\n",
      "2/2 [==============================] - 0s 73ms/step - loss: 3344.9907 - mae: 3344.9907 - val_loss: 3415.0330 - val_mae: 3415.0330\n",
      "Epoch 42/100\n",
      "2/2 [==============================] - 0s 72ms/step - loss: 3311.8728 - mae: 3311.8728 - val_loss: 3211.5142 - val_mae: 3211.5142\n",
      "Epoch 43/100\n",
      "2/2 [==============================] - 0s 75ms/step - loss: 3258.8840 - mae: 3258.8840 - val_loss: 3316.1921 - val_mae: 3316.1921\n",
      "Epoch 44/100\n",
      "2/2 [==============================] - 0s 81ms/step - loss: 3331.8083 - mae: 3331.8083 - val_loss: 3329.9995 - val_mae: 3329.9995\n",
      "Epoch 45/100\n",
      "2/2 [==============================] - 0s 72ms/step - loss: 3260.8918 - mae: 3260.8918 - val_loss: 2981.2683 - val_mae: 2981.2683\n",
      "Epoch 46/100\n",
      "2/2 [==============================] - 0s 75ms/step - loss: 3141.8289 - mae: 3141.8289 - val_loss: 3045.5476 - val_mae: 3045.5476\n",
      "Epoch 47/100\n",
      "2/2 [==============================] - 0s 76ms/step - loss: 3279.4421 - mae: 3279.4421 - val_loss: 3302.3789 - val_mae: 3302.3789\n",
      "Epoch 48/100\n",
      "2/2 [==============================] - 0s 77ms/step - loss: 3292.4697 - mae: 3292.4697 - val_loss: 3048.9932 - val_mae: 3048.9932\n",
      "Epoch 49/100\n",
      "2/2 [==============================] - 0s 77ms/step - loss: 3187.5769 - mae: 3187.5769 - val_loss: 3025.2388 - val_mae: 3025.2388\n",
      "Epoch 50/100\n",
      "2/2 [==============================] - 0s 77ms/step - loss: 3137.5981 - mae: 3137.5981 - val_loss: 2835.7593 - val_mae: 2835.7593\n",
      "Epoch 51/100\n",
      "2/2 [==============================] - 0s 72ms/step - loss: 3057.6453 - mae: 3057.6453 - val_loss: 2688.9297 - val_mae: 2688.9297\n",
      "Epoch 52/100\n",
      "2/2 [==============================] - 0s 72ms/step - loss: 2969.4631 - mae: 2969.4636 - val_loss: 2603.4780 - val_mae: 2603.4780\n",
      "Epoch 53/100\n",
      "2/2 [==============================] - 0s 74ms/step - loss: 3051.7800 - mae: 3051.7800 - val_loss: 3221.8142 - val_mae: 3221.8142\n",
      "Epoch 54/100\n",
      "2/2 [==============================] - 0s 79ms/step - loss: 3223.7678 - mae: 3223.7678 - val_loss: 2601.6138 - val_mae: 2601.6138\n",
      "Epoch 55/100\n",
      "2/2 [==============================] - 0s 75ms/step - loss: 2919.2109 - mae: 2919.2109 - val_loss: 2695.5769 - val_mae: 2695.5769\n",
      "Epoch 56/100\n",
      "2/2 [==============================] - 0s 81ms/step - loss: 3009.5667 - mae: 3009.5667 - val_loss: 2697.3567 - val_mae: 2697.3567\n",
      "Epoch 57/100\n",
      "2/2 [==============================] - 0s 73ms/step - loss: 2984.1406 - mae: 2984.1406 - val_loss: 2819.8591 - val_mae: 2819.8591\n",
      "Epoch 58/100\n",
      "2/2 [==============================] - 0s 70ms/step - loss: 3044.5022 - mae: 3044.5022 - val_loss: 2729.3489 - val_mae: 2729.3489\n",
      "Epoch 59/100\n",
      "2/2 [==============================] - 0s 75ms/step - loss: 2990.2654 - mae: 2990.2654 - val_loss: 2739.1082 - val_mae: 2739.1082\n",
      "Epoch 60/100\n",
      "2/2 [==============================] - 0s 71ms/step - loss: 3016.9119 - mae: 3016.9119 - val_loss: 2823.3745 - val_mae: 2823.3745\n",
      "Epoch 61/100\n",
      "2/2 [==============================] - 0s 67ms/step - loss: 3006.4639 - mae: 3006.4639 - val_loss: 2529.7295 - val_mae: 2529.7295\n",
      "Epoch 62/100\n",
      "2/2 [==============================] - 0s 71ms/step - loss: 2945.1377 - mae: 2945.1377 - val_loss: 2963.0974 - val_mae: 2963.0974\n",
      "Epoch 63/100\n",
      "2/2 [==============================] - 0s 68ms/step - loss: 3036.5286 - mae: 3036.5286 - val_loss: 2509.6650 - val_mae: 2509.6650\n",
      "Epoch 64/100\n",
      "2/2 [==============================] - 0s 70ms/step - loss: 2850.4001 - mae: 2850.4001 - val_loss: 2687.0784 - val_mae: 2687.0784\n",
      "Epoch 65/100\n",
      "2/2 [==============================] - 0s 70ms/step - loss: 2900.1438 - mae: 2900.1438 - val_loss: 2565.3262 - val_mae: 2565.3262\n",
      "Epoch 66/100\n",
      "2/2 [==============================] - 0s 68ms/step - loss: 2898.1926 - mae: 2898.1926 - val_loss: 2613.1414 - val_mae: 2613.1414\n",
      "Epoch 67/100\n",
      "2/2 [==============================] - 0s 66ms/step - loss: 2877.8933 - mae: 2877.8933 - val_loss: 2491.0588 - val_mae: 2491.0588\n",
      "Epoch 68/100\n",
      "2/2 [==============================] - 0s 68ms/step - loss: 2832.3748 - mae: 2832.3748 - val_loss: 2545.8035 - val_mae: 2545.8035\n",
      "Epoch 69/100\n",
      "2/2 [==============================] - 0s 68ms/step - loss: 2852.1641 - mae: 2852.1641 - val_loss: 2495.3093 - val_mae: 2495.3093\n",
      "Epoch 70/100\n",
      "2/2 [==============================] - 0s 68ms/step - loss: 2821.1350 - mae: 2821.1350 - val_loss: 2501.3196 - val_mae: 2501.3196\n",
      "Epoch 71/100\n",
      "2/2 [==============================] - 0s 70ms/step - loss: 2818.8311 - mae: 2818.8311 - val_loss: 2616.2471 - val_mae: 2616.2471\n",
      "Epoch 72/100\n",
      "2/2 [==============================] - 0s 72ms/step - loss: 2848.7295 - mae: 2848.7297 - val_loss: 2438.3176 - val_mae: 2438.3176\n",
      "Epoch 73/100\n",
      "2/2 [==============================] - 0s 71ms/step - loss: 2740.0376 - mae: 2740.0376 - val_loss: 2441.1824 - val_mae: 2441.1824\n",
      "Epoch 74/100\n",
      "2/2 [==============================] - 0s 72ms/step - loss: 2778.5339 - mae: 2778.5339 - val_loss: 2463.6670 - val_mae: 2463.6670\n",
      "Epoch 75/100\n",
      "2/2 [==============================] - 0s 70ms/step - loss: 2780.1565 - mae: 2780.1565 - val_loss: 2517.3247 - val_mae: 2517.3247\n",
      "Epoch 76/100\n",
      "2/2 [==============================] - 0s 68ms/step - loss: 2785.2791 - mae: 2785.2791 - val_loss: 2402.2910 - val_mae: 2402.2910\n",
      "Epoch 77/100\n",
      "2/2 [==============================] - 0s 70ms/step - loss: 2709.4072 - mae: 2709.4072 - val_loss: 2386.0566 - val_mae: 2386.0566\n",
      "Epoch 78/100\n",
      "2/2 [==============================] - 0s 68ms/step - loss: 2687.0361 - mae: 2687.0361 - val_loss: 2346.5034 - val_mae: 2346.5034\n",
      "Epoch 79/100\n",
      "2/2 [==============================] - 0s 71ms/step - loss: 2682.0664 - mae: 2682.0664 - val_loss: 2515.4548 - val_mae: 2515.4548\n",
      "Epoch 80/100\n",
      "2/2 [==============================] - 0s 72ms/step - loss: 2731.6453 - mae: 2731.6453 - val_loss: 2300.6860 - val_mae: 2300.6860\n",
      "Epoch 81/100\n",
      "2/2 [==============================] - 0s 71ms/step - loss: 2608.1511 - mae: 2608.1511 - val_loss: 2321.0000 - val_mae: 2321.0000\n",
      "Epoch 82/100\n",
      "2/2 [==============================] - 0s 68ms/step - loss: 2731.1365 - mae: 2731.1365 - val_loss: 2365.3735 - val_mae: 2365.3735\n",
      "Epoch 83/100\n",
      "2/2 [==============================] - 0s 72ms/step - loss: 2676.3083 - mae: 2676.3083 - val_loss: 2303.0676 - val_mae: 2303.0676\n",
      "Epoch 84/100\n",
      "2/2 [==============================] - 0s 70ms/step - loss: 2590.2085 - mae: 2590.2085 - val_loss: 2330.0645 - val_mae: 2330.0645\n",
      "Epoch 85/100\n",
      "2/2 [==============================] - 0s 67ms/step - loss: 2620.3379 - mae: 2620.3379 - val_loss: 2353.8608 - val_mae: 2353.8608\n",
      "Epoch 86/100\n",
      "2/2 [==============================] - 0s 66ms/step - loss: 2677.0942 - mae: 2677.0942 - val_loss: 2516.7366 - val_mae: 2516.7366\n",
      "Epoch 87/100\n",
      "2/2 [==============================] - 0s 76ms/step - loss: 2793.4717 - mae: 2793.4717 - val_loss: 2437.6465 - val_mae: 2437.6465\n",
      "Epoch 88/100\n",
      "2/2 [==============================] - 0s 68ms/step - loss: 2696.7183 - mae: 2696.7183 - val_loss: 2315.5876 - val_mae: 2315.5876\n",
      "Epoch 89/100\n",
      "2/2 [==============================] - 0s 73ms/step - loss: 2664.4692 - mae: 2664.4692 - val_loss: 2364.2512 - val_mae: 2364.2512\n",
      "Epoch 90/100\n",
      "2/2 [==============================] - 0s 67ms/step - loss: 2644.5664 - mae: 2644.5664 - val_loss: 2300.5046 - val_mae: 2300.5046\n",
      "Epoch 91/100\n",
      "2/2 [==============================] - 0s 71ms/step - loss: 2568.4468 - mae: 2568.4468 - val_loss: 2290.7290 - val_mae: 2290.7290\n",
      "Epoch 92/100\n",
      "2/2 [==============================] - 0s 70ms/step - loss: 2607.6699 - mae: 2607.6699 - val_loss: 2257.1516 - val_mae: 2257.1516\n",
      "Epoch 93/100\n",
      "2/2 [==============================] - 0s 73ms/step - loss: 2574.8665 - mae: 2574.8667 - val_loss: 2321.8127 - val_mae: 2321.8127\n",
      "Epoch 94/100\n",
      "2/2 [==============================] - 0s 69ms/step - loss: 2664.4382 - mae: 2664.4382 - val_loss: 2458.9480 - val_mae: 2458.9480\n",
      "Epoch 95/100\n",
      "2/2 [==============================] - 0s 70ms/step - loss: 2735.3171 - mae: 2735.3171 - val_loss: 2345.7224 - val_mae: 2345.7224\n",
      "Epoch 96/100\n",
      "2/2 [==============================] - 0s 67ms/step - loss: 2627.9360 - mae: 2627.9360 - val_loss: 2220.3464 - val_mae: 2220.3464\n",
      "Epoch 97/100\n",
      "2/2 [==============================] - 0s 71ms/step - loss: 2531.8447 - mae: 2531.8447 - val_loss: 2249.1853 - val_mae: 2249.1853\n",
      "Epoch 98/100\n",
      "2/2 [==============================] - 0s 71ms/step - loss: 2545.0886 - mae: 2545.0886 - val_loss: 2266.5181 - val_mae: 2266.5181\n",
      "Epoch 99/100\n",
      "2/2 [==============================] - 0s 70ms/step - loss: 2559.0847 - mae: 2559.0847 - val_loss: 2103.3721 - val_mae: 2103.3721\n",
      "Epoch 100/100\n",
      "2/2 [==============================] - 0s 70ms/step - loss: 2418.2515 - mae: 2418.2515 - val_loss: 2066.5559 - val_mae: 2066.5559\n"
     ]
    }
   ],
   "source": [
    "Hist_1 = Model_1.fit(X_ptrain_std,\n",
    "                   partial_y_train,\n",
    "                   epochs=100,\n",
    "                   batch_size=512,\n",
    "                   validation_data=(X_val_std, y_val))"
   ]
  },
  {
   "cell_type": "code",
   "execution_count": 15,
   "metadata": {},
   "outputs": [
    {
     "data": {
      "image/png": "[encoded data removed]",
      "text/plain": [
       "<Figure size 640x480 with 1 Axes>"
      ]
     },
     "metadata": {},
     "output_type": "display_data"
    }
   ],
   "source": [
    "# Checking the overfitting\n",
    "plt.plot(Hist_1.history['mae'], label='Train')\n",
    "plt.plot(Hist_1.history['val_mae'], label='Val')\n",
    "plt.legend()\n",
    "plt.show()"
   ]
  },
  {
   "cell_type": "code",
   "execution_count": 16,
   "metadata": {},
   "outputs": [
    {
     "name": "stdout",
     "output_type": "stream",
     "text": [
      "26/26 [==============================] - 0s 4ms/step\n",
      "9/9 [==============================] - 0s 4ms/step\n",
      "R2 score for training is:  0.7994690344483542\n",
      "R2 score for testing is:  0.8729048994345301\n"
     ]
    }
   ],
   "source": [
    "# Evaluating the final result\n",
    "y_train_predict_1 = Model_1.predict(X_ptrain_std)\n",
    "y_test_predict_1 = Model_1.predict(X_test_std)\n",
    "\n",
    "# The R2 metric\n",
    "r2_train_1 = metrics.r2_score(partial_y_train, y_train_predict_1)\n",
    "r2_test_1 = metrics.r2_score(y_test, y_test_predict_1)\n",
    "\n",
    "# Print the results\n",
    "print(\"R2 score for training is: \", r2_train_1)\n",
    "print(\"R2 score for testing is: \", r2_test_1)"
   ]
  },
  {
   "attachments": {},
   "cell_type": "markdown",
   "metadata": {},
   "source": [
    "Here I got the first Neural Network to predict the insurances charges. In this case there's a great error. It could be for the outlier that I found in the EDA part and because the target variables was not standardized  as well.\n",
    "\n",
    "The idea is to build other models to compare what is the best one."
   ]
  },
  {
   "cell_type": "code",
   "execution_count": 17,
   "metadata": {},
   "outputs": [
    {
     "name": "stdout",
     "output_type": "stream",
     "text": [
      "Model: \"sequential_1\"\n",
      "_________________________________________________________________\n",
      " Layer (type)                Output Shape              Param #   \n",
      "=================================================================\n",
      " dense_7 (Dense)             (None, 1024)              7168      \n",
      "                                                                 \n",
      " dense_8 (Dense)             (None, 512)               524800    \n",
      "                                                                 \n",
      " dropout (Dropout)           (None, 512)               0         \n",
      "                                                                 \n",
      " dense_9 (Dense)             (None, 256)               131328    \n",
      "                                                                 \n",
      " dense_10 (Dense)            (None, 128)               32896     \n",
      "                                                                 \n",
      " dropout_1 (Dropout)         (None, 128)               0         \n",
      "                                                                 \n",
      " dense_11 (Dense)            (None, 64)                8256      \n",
      "                                                                 \n",
      " dense_12 (Dense)            (None, 32)                2080      \n",
      "                                                                 \n",
      " dense_13 (Dense)            (None, 1)                 33        \n",
      "                                                                 \n",
      "=================================================================\n",
      "Total params: 706,561\n",
      "Trainable params: 706,561\n",
      "Non-trainable params: 0\n",
      "_________________________________________________________________\n"
     ]
    }
   ],
   "source": [
    "# Building the ANN v 2.0\n",
    "# Despite of there's no a remarkable underfitting in the model 1. Here I'll add regularazer and some layer to see their impact in the result\n",
    "Model_2 = Sequential()\n",
    "Model_2.add(Dense(1024, activation='relu', input_shape=(6,), kernel_regularizer=regularizers.l1(1e-4)))\n",
    "Model_2.add(Dense(512, activation='relu'))\n",
    "Model_2.add(Dropout(0.2))\n",
    "Model_2.add(Dense(256, activation='relu', kernel_regularizer=regularizers.l1(1e-4)))\n",
    "Model_2.add(Dense(128, activation='relu'))\n",
    "Model_2.add(Dropout(0.2))\n",
    "Model_2.add(Dense(64, activation='relu', kernel_regularizer=regularizers.l1(1e-4)))\n",
    "Model_2.add(Dense(32, activation='relu'))\n",
    "Model_2.add(Dense(1))\n",
    "\n",
    "Model_2.summary()"
   ]
  },
  {
   "cell_type": "code",
   "execution_count": 18,
   "metadata": {},
   "outputs": [
    {
     "name": "stdout",
     "output_type": "stream",
     "text": [
      "Epoch 1/100\n",
      "2/2 [==============================] - 3s 455ms/step - loss: 13280.3408 - mae: 13279.6709 - val_loss: 12965.6152 - val_mae: 12964.9697\n",
      "Epoch 2/100\n",
      "2/2 [==============================] - 0s 81ms/step - loss: 13278.1650 - mae: 13277.5225 - val_loss: 12955.5479 - val_mae: 12954.9170\n",
      "Epoch 3/100\n",
      "2/2 [==============================] - 0s 76ms/step - loss: 13263.4062 - mae: 13262.7764 - val_loss: 12909.6689 - val_mae: 12909.0459\n",
      "Epoch 4/100\n",
      "2/2 [==============================] - 0s 66ms/step - loss: 13201.5586 - mae: 13200.9365 - val_loss: 12756.0166 - val_mae: 12755.3975\n",
      "Epoch 5/100\n",
      "2/2 [==============================] - 0s 63ms/step - loss: 13009.2744 - mae: 13008.6562 - val_loss: 12363.0459 - val_mae: 12362.4258\n",
      "Epoch 6/100\n",
      "2/2 [==============================] - 0s 72ms/step - loss: 12544.0771 - mae: 12543.4580 - val_loss: 11540.1338 - val_mae: 11539.5107\n",
      "Epoch 7/100\n",
      "2/2 [==============================] - 0s 65ms/step - loss: 11642.4775 - mae: 11641.8545 - val_loss: 10348.0117 - val_mae: 10347.3848\n",
      "Epoch 8/100\n",
      "2/2 [==============================] - 0s 64ms/step - loss: 10337.9531 - mae: 10337.3252 - val_loss: 8921.7354 - val_mae: 8921.1035\n",
      "Epoch 9/100\n",
      "2/2 [==============================] - 0s 70ms/step - loss: 8769.9980 - mae: 8769.3652 - val_loss: 7665.9170 - val_mae: 7665.2812\n",
      "Epoch 10/100\n",
      "2/2 [==============================] - 0s 71ms/step - loss: 7307.7842 - mae: 7307.1484 - val_loss: 7029.5186 - val_mae: 7028.8823\n",
      "Epoch 11/100\n",
      "2/2 [==============================] - 0s 72ms/step - loss: 6572.6846 - mae: 6572.0493 - val_loss: 6573.2896 - val_mae: 6572.6616\n",
      "Epoch 12/100\n",
      "2/2 [==============================] - 0s 73ms/step - loss: 6078.6030 - mae: 6077.9756 - val_loss: 6228.6450 - val_mae: 6228.0215\n",
      "Epoch 13/100\n",
      "2/2 [==============================] - 0s 72ms/step - loss: 5751.7305 - mae: 5751.1084 - val_loss: 5826.4697 - val_mae: 5825.8550\n",
      "Epoch 14/100\n",
      "2/2 [==============================] - 0s 74ms/step - loss: 5393.8989 - mae: 5393.2842 - val_loss: 5513.4795 - val_mae: 5512.8711\n",
      "Epoch 15/100\n",
      "2/2 [==============================] - 0s 74ms/step - loss: 5121.2324 - mae: 5120.6235 - val_loss: 5190.6255 - val_mae: 5190.0215\n",
      "Epoch 16/100\n",
      "2/2 [==============================] - 0s 76ms/step - loss: 4857.1421 - mae: 4856.5376 - val_loss: 5141.1338 - val_mae: 5140.5376\n",
      "Epoch 17/100\n",
      "2/2 [==============================] - 0s 70ms/step - loss: 4740.5488 - mae: 4739.9507 - val_loss: 4733.7412 - val_mae: 4733.1475\n",
      "Epoch 18/100\n",
      "2/2 [==============================] - 0s 62ms/step - loss: 4389.2129 - mae: 4388.6191 - val_loss: 4559.7192 - val_mae: 4559.1299\n",
      "Epoch 19/100\n",
      "2/2 [==============================] - 0s 65ms/step - loss: 4346.9062 - mae: 4346.3169 - val_loss: 4376.4263 - val_mae: 4375.8403\n",
      "Epoch 20/100\n",
      "2/2 [==============================] - 0s 69ms/step - loss: 4137.2427 - mae: 4136.6572 - val_loss: 4502.2085 - val_mae: 4501.6294\n",
      "Epoch 21/100\n",
      "2/2 [==============================] - 0s 73ms/step - loss: 4327.5322 - mae: 4326.9517 - val_loss: 4285.6328 - val_mae: 4285.0566\n",
      "Epoch 22/100\n",
      "2/2 [==============================] - 0s 72ms/step - loss: 4072.6011 - mae: 4072.0244 - val_loss: 4087.4612 - val_mae: 4086.8877\n",
      "Epoch 23/100\n",
      "2/2 [==============================] - 0s 70ms/step - loss: 3951.5127 - mae: 3950.9392 - val_loss: 4135.4390 - val_mae: 4134.8701\n",
      "Epoch 24/100\n",
      "2/2 [==============================] - 0s 69ms/step - loss: 3973.1733 - mae: 3972.6040 - val_loss: 3962.4912 - val_mae: 3961.9246\n",
      "Epoch 25/100\n",
      "2/2 [==============================] - 0s 70ms/step - loss: 3846.5593 - mae: 3845.9924 - val_loss: 3900.8486 - val_mae: 3900.2852\n",
      "Epoch 26/100\n",
      "2/2 [==============================] - 0s 67ms/step - loss: 3821.1982 - mae: 3820.6353 - val_loss: 3845.8171 - val_mae: 3845.2542\n",
      "Epoch 27/100\n",
      "2/2 [==============================] - 0s 64ms/step - loss: 3866.0483 - mae: 3865.4875 - val_loss: 3805.8921 - val_mae: 3805.3323\n",
      "Epoch 28/100\n",
      "2/2 [==============================] - 0s 69ms/step - loss: 3799.2761 - mae: 3798.7183 - val_loss: 3795.3801 - val_mae: 3794.8225\n",
      "Epoch 29/100\n",
      "2/2 [==============================] - 0s 69ms/step - loss: 3838.6418 - mae: 3838.0867 - val_loss: 3667.0862 - val_mae: 3666.5327\n",
      "Epoch 30/100\n",
      "2/2 [==============================] - 0s 73ms/step - loss: 3720.4541 - mae: 3719.9023 - val_loss: 3658.0769 - val_mae: 3657.5249\n",
      "Epoch 31/100\n",
      "2/2 [==============================] - 0s 70ms/step - loss: 3730.5081 - mae: 3729.9575 - val_loss: 3614.8872 - val_mae: 3614.3411\n",
      "Epoch 32/100\n",
      "2/2 [==============================] - 0s 74ms/step - loss: 3684.6440 - mae: 3684.0981 - val_loss: 3497.8213 - val_mae: 3497.2751\n",
      "Epoch 33/100\n",
      "2/2 [==============================] - 0s 74ms/step - loss: 3551.5269 - mae: 3550.9812 - val_loss: 3450.3054 - val_mae: 3449.7610\n",
      "Epoch 34/100\n",
      "2/2 [==============================] - 0s 66ms/step - loss: 3589.0471 - mae: 3588.5032 - val_loss: 3683.6030 - val_mae: 3683.0635\n",
      "Epoch 35/100\n",
      "2/2 [==============================] - 0s 67ms/step - loss: 3790.6902 - mae: 3790.1484 - val_loss: 3760.4639 - val_mae: 3759.9270\n",
      "Epoch 36/100\n",
      "2/2 [==============================] - 0s 71ms/step - loss: 3611.5503 - mae: 3611.0122 - val_loss: 3326.4033 - val_mae: 3325.8645\n",
      "Epoch 37/100\n",
      "2/2 [==============================] - 0s 72ms/step - loss: 3471.2974 - mae: 3470.7593 - val_loss: 3369.2690 - val_mae: 3368.7288\n",
      "Epoch 38/100\n",
      "2/2 [==============================] - 0s 78ms/step - loss: 3577.2620 - mae: 3576.7234 - val_loss: 3236.0352 - val_mae: 3235.4985\n",
      "Epoch 39/100\n",
      "2/2 [==============================] - 0s 76ms/step - loss: 3445.4822 - mae: 3444.9458 - val_loss: 3356.5457 - val_mae: 3356.0120\n",
      "Epoch 40/100\n",
      "2/2 [==============================] - 0s 79ms/step - loss: 3486.9075 - mae: 3486.3726 - val_loss: 3438.6033 - val_mae: 3438.0715\n",
      "Epoch 41/100\n",
      "2/2 [==============================] - 0s 68ms/step - loss: 3551.1543 - mae: 3550.6208 - val_loss: 3293.1714 - val_mae: 3292.6396\n",
      "Epoch 42/100\n",
      "2/2 [==============================] - 0s 72ms/step - loss: 3381.5679 - mae: 3381.0356 - val_loss: 3063.1433 - val_mae: 3062.6099\n",
      "Epoch 43/100\n",
      "2/2 [==============================] - 0s 71ms/step - loss: 3377.9924 - mae: 3377.4583 - val_loss: 3420.1826 - val_mae: 3419.6526\n",
      "Epoch 44/100\n",
      "2/2 [==============================] - 0s 67ms/step - loss: 3398.9783 - mae: 3398.4463 - val_loss: 2952.7368 - val_mae: 2952.2039\n",
      "Epoch 45/100\n",
      "2/2 [==============================] - 0s 70ms/step - loss: 3291.9202 - mae: 3291.3875 - val_loss: 2908.2766 - val_mae: 2907.7439\n",
      "Epoch 46/100\n",
      "2/2 [==============================] - 0s 71ms/step - loss: 3188.9614 - mae: 3188.4282 - val_loss: 2900.2524 - val_mae: 2899.7200\n",
      "Epoch 47/100\n",
      "2/2 [==============================] - 0s 69ms/step - loss: 3223.0071 - mae: 3222.4741 - val_loss: 2766.9038 - val_mae: 2766.3696\n",
      "Epoch 48/100\n",
      "2/2 [==============================] - 0s 69ms/step - loss: 3204.5449 - mae: 3204.0112 - val_loss: 2849.0913 - val_mae: 2848.5537\n",
      "Epoch 49/100\n",
      "2/2 [==============================] - 0s 71ms/step - loss: 3474.8391 - mae: 3474.3042 - val_loss: 2734.2327 - val_mae: 2733.6968\n",
      "Epoch 50/100\n",
      "2/2 [==============================] - 0s 73ms/step - loss: 3162.2593 - mae: 3161.7251 - val_loss: 2746.9788 - val_mae: 2746.4429\n",
      "Epoch 51/100\n",
      "2/2 [==============================] - 0s 79ms/step - loss: 3267.9219 - mae: 3267.3877 - val_loss: 2709.0808 - val_mae: 2708.5461\n",
      "Epoch 52/100\n",
      "2/2 [==============================] - 0s 75ms/step - loss: 3124.3770 - mae: 3123.8435 - val_loss: 2707.8501 - val_mae: 2707.3152\n",
      "Epoch 53/100\n",
      "2/2 [==============================] - 0s 73ms/step - loss: 3234.6851 - mae: 3234.1521 - val_loss: 2779.2427 - val_mae: 2778.7078\n",
      "Epoch 54/100\n",
      "2/2 [==============================] - 0s 73ms/step - loss: 3328.9111 - mae: 3328.3782 - val_loss: 2637.6411 - val_mae: 2637.1074\n",
      "Epoch 55/100\n",
      "2/2 [==============================] - 0s 70ms/step - loss: 3180.1531 - mae: 3179.6208 - val_loss: 2589.2751 - val_mae: 2588.7419\n",
      "Epoch 56/100\n",
      "2/2 [==============================] - 0s 78ms/step - loss: 3095.2524 - mae: 3094.7205 - val_loss: 2580.5029 - val_mae: 2579.9688\n",
      "Epoch 57/100\n",
      "2/2 [==============================] - 0s 67ms/step - loss: 3107.3130 - mae: 3106.7805 - val_loss: 2516.2429 - val_mae: 2515.7109\n",
      "Epoch 58/100\n",
      "2/2 [==============================] - 0s 70ms/step - loss: 2984.6614 - mae: 2984.1299 - val_loss: 2492.8391 - val_mae: 2492.3052\n",
      "Epoch 59/100\n",
      "2/2 [==============================] - 0s 76ms/step - loss: 3050.8186 - mae: 3050.2859 - val_loss: 2439.2285 - val_mae: 2438.6946\n",
      "Epoch 60/100\n",
      "2/2 [==============================] - 0s 69ms/step - loss: 3055.0071 - mae: 3054.4744 - val_loss: 2482.7441 - val_mae: 2482.2100\n",
      "Epoch 61/100\n",
      "2/2 [==============================] - 0s 68ms/step - loss: 3047.6047 - mae: 3047.0720 - val_loss: 2482.0774 - val_mae: 2481.5425\n",
      "Epoch 62/100\n",
      "2/2 [==============================] - 0s 67ms/step - loss: 3079.1296 - mae: 3078.5967 - val_loss: 2413.1060 - val_mae: 2412.5725\n",
      "Epoch 63/100\n",
      "2/2 [==============================] - 0s 68ms/step - loss: 2957.2063 - mae: 2956.6736 - val_loss: 2400.5222 - val_mae: 2399.9885\n",
      "Epoch 64/100\n",
      "2/2 [==============================] - 0s 69ms/step - loss: 2917.6340 - mae: 2917.1011 - val_loss: 2332.7942 - val_mae: 2332.2617\n",
      "Epoch 65/100\n",
      "2/2 [==============================] - 0s 71ms/step - loss: 2863.4058 - mae: 2862.8728 - val_loss: 2544.4861 - val_mae: 2543.9548\n",
      "Epoch 66/100\n",
      "2/2 [==============================] - 0s 68ms/step - loss: 2912.6409 - mae: 2912.1084 - val_loss: 2634.5742 - val_mae: 2634.0430\n",
      "Epoch 67/100\n",
      "2/2 [==============================] - 0s 71ms/step - loss: 3003.5356 - mae: 3003.0024 - val_loss: 2859.7327 - val_mae: 2859.2029\n",
      "Epoch 68/100\n",
      "2/2 [==============================] - 0s 71ms/step - loss: 3027.4663 - mae: 3026.9346 - val_loss: 2721.2996 - val_mae: 2720.7695\n",
      "Epoch 69/100\n",
      "2/2 [==============================] - 0s 74ms/step - loss: 2929.9944 - mae: 2929.4631 - val_loss: 2319.6323 - val_mae: 2319.1003\n",
      "Epoch 70/100\n",
      "2/2 [==============================] - 0s 68ms/step - loss: 2737.3455 - mae: 2736.8127 - val_loss: 2166.8816 - val_mae: 2166.3479\n",
      "Epoch 71/100\n",
      "2/2 [==============================] - 0s 68ms/step - loss: 2758.1011 - mae: 2757.5676 - val_loss: 2364.2917 - val_mae: 2363.7598\n",
      "Epoch 72/100\n",
      "2/2 [==============================] - 0s 70ms/step - loss: 2859.9377 - mae: 2859.4045 - val_loss: 2844.5476 - val_mae: 2844.0173\n",
      "Epoch 73/100\n",
      "2/2 [==============================] - 0s 67ms/step - loss: 3167.7344 - mae: 3167.2019 - val_loss: 2584.1467 - val_mae: 2583.6162\n",
      "Epoch 74/100\n",
      "2/2 [==============================] - 0s 70ms/step - loss: 2948.8953 - mae: 2948.3635 - val_loss: 2660.7153 - val_mae: 2660.1851\n",
      "Epoch 75/100\n",
      "2/2 [==============================] - 0s 74ms/step - loss: 2888.8770 - mae: 2888.3450 - val_loss: 2307.7751 - val_mae: 2307.2434\n",
      "Epoch 76/100\n",
      "2/2 [==============================] - 0s 74ms/step - loss: 2764.6946 - mae: 2764.1614 - val_loss: 2357.8757 - val_mae: 2357.3438\n",
      "Epoch 77/100\n",
      "2/2 [==============================] - 0s 72ms/step - loss: 2826.9441 - mae: 2826.4109 - val_loss: 2678.3552 - val_mae: 2677.8252\n",
      "Epoch 78/100\n",
      "2/2 [==============================] - 0s 72ms/step - loss: 2883.6824 - mae: 2883.1509 - val_loss: 2466.7571 - val_mae: 2466.2266\n",
      "Epoch 79/100\n",
      "2/2 [==============================] - 0s 67ms/step - loss: 2805.1399 - mae: 2804.6082 - val_loss: 2444.8547 - val_mae: 2444.3237\n",
      "Epoch 80/100\n",
      "2/2 [==============================] - 0s 70ms/step - loss: 2951.7964 - mae: 2951.2637 - val_loss: 2676.4199 - val_mae: 2675.8899\n",
      "Epoch 81/100\n",
      "2/2 [==============================] - 0s 75ms/step - loss: 2869.5774 - mae: 2869.0454 - val_loss: 2240.9705 - val_mae: 2240.4382\n",
      "Epoch 82/100\n",
      "2/2 [==============================] - 0s 69ms/step - loss: 2699.8030 - mae: 2699.2695 - val_loss: 2329.3506 - val_mae: 2328.8186\n",
      "Epoch 83/100\n",
      "2/2 [==============================] - 0s 68ms/step - loss: 2710.2969 - mae: 2709.7637 - val_loss: 2237.4802 - val_mae: 2236.9480\n",
      "Epoch 84/100\n",
      "2/2 [==============================] - 0s 76ms/step - loss: 2698.0403 - mae: 2697.5068 - val_loss: 2090.0422 - val_mae: 2089.5088\n",
      "Epoch 85/100\n",
      "2/2 [==============================] - 0s 75ms/step - loss: 2642.1372 - mae: 2641.6038 - val_loss: 2033.5530 - val_mae: 2033.0182\n",
      "Epoch 86/100\n",
      "2/2 [==============================] - 0s 89ms/step - loss: 2679.0710 - mae: 2678.5374 - val_loss: 2291.8120 - val_mae: 2291.2756\n",
      "Epoch 87/100\n",
      "2/2 [==============================] - 0s 74ms/step - loss: 2870.3101 - mae: 2869.7751 - val_loss: 2252.4915 - val_mae: 2251.9553\n",
      "Epoch 88/100\n",
      "2/2 [==============================] - 0s 69ms/step - loss: 2836.8184 - mae: 2836.2837 - val_loss: 2463.9302 - val_mae: 2463.3928\n",
      "Epoch 89/100\n",
      "2/2 [==============================] - 0s 72ms/step - loss: 2968.4065 - mae: 2967.8713 - val_loss: 2213.5342 - val_mae: 2212.9980\n",
      "Epoch 90/100\n",
      "2/2 [==============================] - 0s 73ms/step - loss: 2736.2285 - mae: 2735.6936 - val_loss: 2084.4412 - val_mae: 2083.9058\n",
      "Epoch 91/100\n",
      "2/2 [==============================] - 0s 71ms/step - loss: 2604.5845 - mae: 2604.0496 - val_loss: 2097.3167 - val_mae: 2096.7812\n",
      "Epoch 92/100\n",
      "2/2 [==============================] - 0s 73ms/step - loss: 2613.2837 - mae: 2612.7488 - val_loss: 2093.0312 - val_mae: 2092.4954\n",
      "Epoch 93/100\n",
      "2/2 [==============================] - 0s 75ms/step - loss: 2717.0347 - mae: 2716.5000 - val_loss: 2520.4707 - val_mae: 2519.9319\n",
      "Epoch 94/100\n",
      "2/2 [==============================] - 0s 81ms/step - loss: 2886.5979 - mae: 2886.0615 - val_loss: 2155.3633 - val_mae: 2154.8259\n",
      "Epoch 95/100\n",
      "2/2 [==============================] - 0s 75ms/step - loss: 2708.4602 - mae: 2707.9238 - val_loss: 2024.6119 - val_mae: 2024.0756\n",
      "Epoch 96/100\n",
      "2/2 [==============================] - 0s 76ms/step - loss: 2588.4502 - mae: 2587.9146 - val_loss: 2153.5115 - val_mae: 2152.9739\n",
      "Epoch 97/100\n",
      "2/2 [==============================] - 0s 70ms/step - loss: 2733.8738 - mae: 2733.3376 - val_loss: 2313.9956 - val_mae: 2313.4565\n",
      "Epoch 98/100\n",
      "2/2 [==============================] - 0s 72ms/step - loss: 2851.4199 - mae: 2850.8821 - val_loss: 2207.7161 - val_mae: 2207.1775\n",
      "Epoch 99/100\n",
      "2/2 [==============================] - 0s 68ms/step - loss: 2706.7869 - mae: 2706.2493 - val_loss: 2078.3083 - val_mae: 2077.7705\n",
      "Epoch 100/100\n",
      "2/2 [==============================] - 0s 68ms/step - loss: 2650.4895 - mae: 2649.9526 - val_loss: 2158.2346 - val_mae: 2157.6963\n"
     ]
    }
   ],
   "source": [
    "Model_2.compile(optimizer='rmsprop', loss='mae', metrics=[\"mae\"])\n",
    "\n",
    "Hist_2 = Model_2.fit(X_ptrain_std,\n",
    "                   partial_y_train,\n",
    "                   epochs=100,\n",
    "                   batch_size=512,\n",
    "                   validation_data=(X_val_std, y_val))"
   ]
  },
  {
   "cell_type": "code",
   "execution_count": 19,
   "metadata": {},
   "outputs": [
    {
     "data": {
      "image/png": "[encoded data removed]",
      "text/plain": [
       "<Figure size 640x480 with 1 Axes>"
      ]
     },
     "metadata": {},
     "output_type": "display_data"
    }
   ],
   "source": [
    "# Checking the overfitting\n",
    "plt.plot(Hist_2.history['mae'], label='Train')\n",
    "plt.plot(Hist_2.history['val_mae'], label='Val')\n",
    "plt.legend()\n",
    "plt.show()"
   ]
  },
  {
   "cell_type": "code",
   "execution_count": 20,
   "metadata": {},
   "outputs": [
    {
     "name": "stdout",
     "output_type": "stream",
     "text": [
      "26/26 [==============================] - 0s 5ms/step\n",
      "9/9 [==============================] - 0s 6ms/step\n",
      "R2 score for training is:  0.8153879263996037\n",
      "R2 score for testing is:  0.8842035210295113\n"
     ]
    }
   ],
   "source": [
    "# Evaluating the final result\n",
    "y_train_predict_2 = Model_2.predict(X_ptrain_std)\n",
    "y_test_predict_2 = Model_2.predict(X_test_std)\n",
    "\n",
    "# The R2 metric\n",
    "r2_train_2 = metrics.r2_score(partial_y_train, y_train_predict_2)\n",
    "r2_test_2 = metrics.r2_score(y_test, y_test_predict_2)\n",
    "\n",
    "# Print the results\n",
    "print(\"R2 score for training is: \", r2_train_2)\n",
    "print(\"R2 score for testing is: \", r2_test_2)"
   ]
  },
  {
   "attachments": {},
   "cell_type": "markdown",
   "metadata": {},
   "source": [
    "The result between the model 1 (without regularization) and the model 2 (with) does not change much. \n",
    "Highlining, there's no a remarkable overtiffit as it is written above.\n",
    "\n",
    "Next a Early Stopping will be applied to the model 1 (the simple one) to avoid over-training."
   ]
  },
  {
   "cell_type": "code",
   "execution_count": 21,
   "metadata": {},
   "outputs": [
    {
     "name": "stdout",
     "output_type": "stream",
     "text": [
      "Epoch 1/500\n",
      "2/2 [==============================] - 0s 127ms/step - loss: 2412.9236 - mae: 2412.9236 - val_loss: 2018.3711 - val_mae: 2018.3711\n",
      "Epoch 2/500\n",
      "2/2 [==============================] - 0s 66ms/step - loss: 2430.0078 - mae: 2430.0078 - val_loss: 2129.2046 - val_mae: 2129.2046\n",
      "Epoch 3/500\n",
      "2/2 [==============================] - 0s 71ms/step - loss: 2543.7559 - mae: 2543.7559 - val_loss: 2351.5190 - val_mae: 2351.5190\n",
      "Epoch 4/500\n",
      "2/2 [==============================] - 0s 74ms/step - loss: 2645.1047 - mae: 2645.1047 - val_loss: 2332.2981 - val_mae: 2332.2981\n",
      "Epoch 5/500\n",
      "2/2 [==============================] - 0s 70ms/step - loss: 2634.6992 - mae: 2634.6992 - val_loss: 2322.9573 - val_mae: 2322.9573\n",
      "Epoch 6/500\n",
      "2/2 [==============================] - 0s 67ms/step - loss: 2587.8606 - mae: 2587.8606 - val_loss: 2243.1448 - val_mae: 2243.1448\n",
      "Epoch 7/500\n",
      "2/2 [==============================] - 0s 65ms/step - loss: 2554.8003 - mae: 2554.8003 - val_loss: 2140.8423 - val_mae: 2140.8423\n",
      "Epoch 8/500\n",
      "2/2 [==============================] - 0s 62ms/step - loss: 2507.6890 - mae: 2507.6890 - val_loss: 2124.3792 - val_mae: 2124.3792\n",
      "Epoch 9/500\n",
      "2/2 [==============================] - 0s 59ms/step - loss: 2449.3167 - mae: 2449.3167 - val_loss: 2132.9897 - val_mae: 2132.9897\n",
      "Epoch 10/500\n",
      "2/2 [==============================] - 0s 62ms/step - loss: 2543.2996 - mae: 2543.2996 - val_loss: 2372.9084 - val_mae: 2372.9084\n",
      "Epoch 11/500\n",
      "2/2 [==============================] - 0s 63ms/step - loss: 2582.3218 - mae: 2582.3218 - val_loss: 2091.1873 - val_mae: 2091.1873\n",
      "Epoch 12/500\n",
      "2/2 [==============================] - 0s 62ms/step - loss: 2500.6079 - mae: 2500.6079 - val_loss: 2307.4785 - val_mae: 2307.4785\n",
      "Epoch 13/500\n",
      "2/2 [==============================] - 0s 64ms/step - loss: 2559.8315 - mae: 2559.8315 - val_loss: 2231.0413 - val_mae: 2231.0413\n",
      "Epoch 14/500\n",
      "2/2 [==============================] - 0s 63ms/step - loss: 2563.8230 - mae: 2563.8230 - val_loss: 2218.4841 - val_mae: 2218.4841\n",
      "Epoch 15/500\n",
      "2/2 [==============================] - 0s 69ms/step - loss: 2594.1067 - mae: 2594.1067 - val_loss: 2145.3740 - val_mae: 2145.3740\n",
      "Epoch 16/500\n",
      "2/2 [==============================] - 0s 67ms/step - loss: 2447.0181 - mae: 2447.0181 - val_loss: 1967.1632 - val_mae: 1967.1632\n",
      "Epoch 17/500\n",
      "2/2 [==============================] - 0s 66ms/step - loss: 2353.5610 - mae: 2353.5610 - val_loss: 2200.5884 - val_mae: 2200.5884\n",
      "Epoch 18/500\n",
      "2/2 [==============================] - 0s 68ms/step - loss: 2633.3296 - mae: 2633.3296 - val_loss: 2202.0256 - val_mae: 2202.0256\n",
      "Epoch 19/500\n",
      "2/2 [==============================] - 0s 64ms/step - loss: 2589.4968 - mae: 2589.4968 - val_loss: 2269.6648 - val_mae: 2269.6648\n",
      "Epoch 20/500\n",
      "2/2 [==============================] - 0s 58ms/step - loss: 2499.0432 - mae: 2499.0432 - val_loss: 2092.6851 - val_mae: 2092.6851\n",
      "Epoch 21/500\n",
      "2/2 [==============================] - 0s 67ms/step - loss: 2425.8484 - mae: 2425.8484 - val_loss: 2060.5461 - val_mae: 2060.5461\n",
      "Epoch 22/500\n",
      "2/2 [==============================] - 0s 61ms/step - loss: 2459.8826 - mae: 2459.8826 - val_loss: 2197.2141 - val_mae: 2197.2141\n",
      "Epoch 23/500\n",
      "2/2 [==============================] - 0s 71ms/step - loss: 2558.4324 - mae: 2558.4324 - val_loss: 2179.7405 - val_mae: 2179.7405\n",
      "Epoch 24/500\n",
      "2/2 [==============================] - 0s 68ms/step - loss: 2504.5881 - mae: 2504.5881 - val_loss: 2041.2748 - val_mae: 2041.2748\n",
      "Epoch 25/500\n",
      "2/2 [==============================] - 0s 65ms/step - loss: 2447.5271 - mae: 2447.5271 - val_loss: 2338.1714 - val_mae: 2338.1714\n",
      "Epoch 26/500\n",
      "2/2 [==============================] - 0s 70ms/step - loss: 2586.3096 - mae: 2586.3096 - val_loss: 2141.0498 - val_mae: 2141.0498\n",
      "Epoch 27/500\n",
      "2/2 [==============================] - 0s 66ms/step - loss: 2434.0593 - mae: 2434.0593 - val_loss: 2033.5876 - val_mae: 2033.5876\n",
      "Epoch 28/500\n",
      "2/2 [==============================] - 0s 62ms/step - loss: 2420.0168 - mae: 2420.0168 - val_loss: 2135.4893 - val_mae: 2135.4893\n",
      "Epoch 29/500\n",
      "2/2 [==============================] - 0s 64ms/step - loss: 2510.9607 - mae: 2510.9607 - val_loss: 2191.2029 - val_mae: 2191.2029\n",
      "Epoch 30/500\n",
      "2/2 [==============================] - 0s 65ms/step - loss: 2505.3235 - mae: 2505.3235 - val_loss: 2099.6572 - val_mae: 2099.6572\n",
      "Epoch 31/500\n",
      "2/2 [==============================] - 0s 61ms/step - loss: 2446.2781 - mae: 2446.2781 - val_loss: 2123.6760 - val_mae: 2123.6760\n",
      "Epoch 32/500\n",
      "2/2 [==============================] - 0s 64ms/step - loss: 2449.7068 - mae: 2449.7065 - val_loss: 2032.3087 - val_mae: 2032.3087\n",
      "Epoch 33/500\n",
      "2/2 [==============================] - 0s 64ms/step - loss: 2418.2432 - mae: 2418.2432 - val_loss: 2272.9082 - val_mae: 2272.9082\n",
      "Epoch 34/500\n",
      "2/2 [==============================] - 0s 63ms/step - loss: 2551.6738 - mae: 2551.6738 - val_loss: 2124.2356 - val_mae: 2124.2356\n",
      "Epoch 35/500\n",
      "2/2 [==============================] - 0s 66ms/step - loss: 2493.6858 - mae: 2493.6858 - val_loss: 2126.6519 - val_mae: 2126.6519\n",
      "Epoch 36/500\n",
      "2/2 [==============================] - 0s 65ms/step - loss: 2460.6021 - mae: 2460.6021 - val_loss: 2231.1304 - val_mae: 2231.1304\n",
      "Epoch 37/500\n",
      "2/2 [==============================] - 0s 65ms/step - loss: 2490.1235 - mae: 2490.1235 - val_loss: 1977.7672 - val_mae: 1977.7672\n",
      "Epoch 38/500\n",
      "2/2 [==============================] - 0s 69ms/step - loss: 2312.0808 - mae: 2312.0808 - val_loss: 1996.1476 - val_mae: 1996.1476\n",
      "Epoch 39/500\n",
      "2/2 [==============================] - 0s 65ms/step - loss: 2365.0432 - mae: 2365.0432 - val_loss: 2295.5325 - val_mae: 2295.5325\n",
      "Epoch 40/500\n",
      "2/2 [==============================] - 0s 64ms/step - loss: 2574.9934 - mae: 2574.9934 - val_loss: 2123.4363 - val_mae: 2123.4363\n",
      "Epoch 41/500\n",
      "2/2 [==============================] - 0s 66ms/step - loss: 2517.0347 - mae: 2517.0347 - val_loss: 2244.3145 - val_mae: 2244.3145\n"
     ]
    }
   ],
   "source": [
    "callback_early = EarlyStopping(monitor = \"val_mae\", patience=25, mode = \"auto\")\n",
    "\n",
    "Hist_3 = Model_1.fit(X_ptrain_std,\n",
    "                   partial_y_train,\n",
    "                   epochs=500, # more number of epochs due to EarlyStopping\n",
    "                   batch_size=512,\n",
    "                   callbacks = [callback_early],\n",
    "                   validation_data=(X_val_std, y_val))"
   ]
  },
  {
   "cell_type": "code",
   "execution_count": 22,
   "metadata": {},
   "outputs": [
    {
     "data": {
      "image/png": "[encoded data removed]",
      "text/plain": [
       "<Figure size 640x480 with 1 Axes>"
      ]
     },
     "metadata": {},
     "output_type": "display_data"
    }
   ],
   "source": [
    "# Checking the overfitting\n",
    "# The best Epoch applying a Early Stopping call back is before the epoch 93\n",
    "plt.plot(Hist_3.history['mae'], label='Train')\n",
    "plt.plot(Hist_3.history['val_mae'], label='Val')\n",
    "plt.legend()\n",
    "plt.show()"
   ]
  },
  {
   "cell_type": "code",
   "execution_count": 23,
   "metadata": {},
   "outputs": [
    {
     "name": "stdout",
     "output_type": "stream",
     "text": [
      "26/26 [==============================] - 0s 5ms/step\n",
      "9/9 [==============================] - 0s 5ms/step\n",
      "R2 score for training is:  0.788331539177356\n",
      "R2 score for testing is:  0.8599189250850582\n"
     ]
    }
   ],
   "source": [
    "# Evaluating the final result\n",
    "y_train_predict_3 = Model_1.predict(X_ptrain_std)\n",
    "y_test_predict_3 = Model_1.predict(X_test_std)\n",
    "\n",
    "# The R2 metric\n",
    "r2_train_3 = metrics.r2_score(partial_y_train, y_train_predict_3)\n",
    "r2_test_3 = metrics.r2_score(y_test, y_test_predict_3)\n",
    "\n",
    "# Print the results\n",
    "print(\"R2 score for training is: \", r2_train_3)\n",
    "print(\"R2 score for testing is: \", r2_test_3)"
   ]
  },
  {
   "attachments": {},
   "cell_type": "markdown",
   "metadata": {},
   "source": [
    "The last got the best accuracy. Early stopping helps to regularize the Neural Network.\n",
    "Now, Let's compare this model with a simple linear regression."
   ]
  },
  {
   "cell_type": "code",
   "execution_count": 37,
   "metadata": {},
   "outputs": [
    {
     "name": "stdout",
     "output_type": "stream",
     "text": [
      "R2 score for training is:  0.7218470836941686\n",
      "R2 score for testing is:  0.7983490052336844\n"
     ]
    }
   ],
   "source": [
    "# The linear regression\n",
    "regressor = LinearRegression().fit(X_ptrain_std,partial_y_train)\n",
    "y_train_linear =  regressor.predict(X_ptrain_std)\n",
    "y_test_linear =  regressor.predict(X_test_std)\n",
    "\n",
    "# R2 score\n",
    "r2_train_4 = metrics.r2_score(partial_y_train, y_train_linear)\n",
    "r2_test_4 = metrics.r2_score(y_test, y_test_linear)\n",
    "\n",
    "# Print the results\n",
    "print(\"R2 score for training is: \", r2_train_4)\n",
    "print(\"R2 score for testing is: \", r2_test_4)"
   ]
  },
  {
   "attachments": {},
   "cell_type": "markdown",
   "metadata": {},
   "source": [
    "Comparing the result for the simple linear regression and the Neural Network. It is possible to realize that the ANN has a better accuracy which shows the potential for the deep learning. Although, Deep Learning is not always the best way.\n",
    "\n",
    "Now Let's try Keras_tuner to improve the best ANN"
   ]
  },
  {
   "cell_type": "code",
   "execution_count": 25,
   "metadata": {},
   "outputs": [],
   "source": [
    "def model_builder(hp):\n",
    "\n",
    "  # Hyper-Parameters\n",
    "  neurons_hp = hp.Int(name = 'start_neurons', min_value = 32, max_value = 1024, step = 64)\n",
    "  optimizer_hp = hp.Choice('optimizer', values = ['RMSprop', 'Adam', 'SGD'])\n",
    "  activation_hp = hp.Choice(name = 'activation', values = ['elu', 'selu', 'relu'])\n",
    "\n",
    "  # Model Structure\n",
    "  Model = Sequential()\n",
    "  Model.add(Dense(units=neurons_hp, activation=activation_hp, input_shape=(6,)))\n",
    "  Model.add(Dense(units=neurons_hp, activation=activation_hp))  \n",
    "  Model.add(Dense(units=neurons_hp, activation=activation_hp))\n",
    "  Model.add(Dense(units=neurons_hp, activation=activation_hp))\n",
    "  Model.add(Dense(units=neurons_hp, activation=activation_hp))\n",
    "  Model.add(Dense(units=neurons_hp, activation=activation_hp))\n",
    "  Model.add(Dense(1))\n",
    "\n",
    "  # Compile it\n",
    "  Model.compile(optimizer=optimizer_hp, loss='mae', metrics=[\"mae\"])\n",
    "\n",
    "  return Model"
   ]
  },
  {
   "cell_type": "code",
   "execution_count": 26,
   "metadata": {},
   "outputs": [],
   "source": [
    "tuner = kt.Hyperband( # There are 2 more methods\n",
    "    model_builder,\n",
    "    objective = \"val_mae\",\n",
    "    max_epochs = 100,\n",
    "    factor = 3, \n",
    "    directory = \"out/\",\n",
    "    project_name = \"regressor-tunner\" \n",
    ")"
   ]
  },
  {
   "cell_type": "code",
   "execution_count": 29,
   "metadata": {},
   "outputs": [
    {
     "name": "stdout",
     "output_type": "stream",
     "text": [
      "Trial 182 Complete [00h 00m 12s]\n",
      "val_mae: 4306.59814453125\n",
      "\n",
      "Best val_mae So Far: 3220.832763671875\n",
      "Total elapsed time: 00h 27m 00s\n",
      "INFO:tensorflow:Oracle triggered exit\n"
     ]
    }
   ],
   "source": [
    "# The Auto Keras part\n",
    "tuner.search(X_ptrain_std, partial_y_train, epochs=100, validation_data=(X_val_std, y_val))"
   ]
  },
  {
   "cell_type": "code",
   "execution_count": 33,
   "metadata": {},
   "outputs": [],
   "source": [
    "best_hps = tuner.get_best_hyperparameters()[0]\n",
    "best_model = tuner.get_best_models()[0]"
   ]
  },
  {
   "cell_type": "code",
   "execution_count": 35,
   "metadata": {},
   "outputs": [],
   "source": [
    "# Saved my model\n",
    "best_model.save(\"out\\ANN_regressor.h5\")"
   ]
  },
  {
   "attachments": {},
   "cell_type": "markdown",
   "metadata": {},
   "source": [
    "To conclude, Deep Learning is a useful tool to get better results (not always). And for this specific case the neural network was able to get a good model to predict the insurance charge based on some customers data, even better than a traditional regression linear model."
   ]
  }
 ],
 "metadata": {
  "kernelspec": {
   "display_name": "venv",
   "language": "python",
   "name": "python3"
  },
  "language_info": {
   "codemirror_mode": {
    "name": "ipython",
    "version": 3
   },
   "file_extension": ".py",
   "mimetype": "text/x-python",
   "name": "python",
   "nbconvert_exporter": "python",
   "pygments_lexer": "ipython3",
   "version": "3.10.7"
  },
  "orig_nbformat": 4,
  "vscode": {
   "interpreter": {
    "hash": "26f7b48430c26ac213388b350ad38745434ab2ff3f0ee647ae155ad6e30716e0"
   }
  }
 },
 "nbformat": 4,
 "nbformat_minor": 2
}
